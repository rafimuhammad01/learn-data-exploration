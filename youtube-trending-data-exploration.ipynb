{
 "cells": [
  {
   "cell_type": "code",
   "execution_count": 1,
   "metadata": {
    "_cell_guid": "b1076dfc-b9ad-4769-8c92-a6c4dae69d19",
    "_uuid": "8f2839f25d086af736a60e9eeb907d3b93b6e0e5",
    "execution": {
     "iopub.execute_input": "2021-05-11T04:05:42.267714Z",
     "iopub.status.busy": "2021-05-11T04:05:42.266931Z",
     "iopub.status.idle": "2021-05-11T04:05:43.405692Z",
     "shell.execute_reply": "2021-05-11T04:05:43.404667Z"
    },
    "papermill": {
     "duration": 1.160215,
     "end_time": "2021-05-11T04:05:43.405906",
     "exception": false,
     "start_time": "2021-05-11T04:05:42.245691",
     "status": "completed"
    },
    "tags": []
   },
   "outputs": [
    {
     "name": "stdout",
     "output_type": "stream",
     "text": [
      "/kaggle/input/youtube-new/GBvideos.csv\n",
      "/kaggle/input/youtube-new/MXvideos.csv\n",
      "/kaggle/input/youtube-new/KRvideos.csv\n",
      "/kaggle/input/youtube-new/MX_category_id.json\n",
      "/kaggle/input/youtube-new/GB_category_id.json\n",
      "/kaggle/input/youtube-new/US_category_id.json\n",
      "/kaggle/input/youtube-new/IN_category_id.json\n",
      "/kaggle/input/youtube-new/DEvideos.csv\n",
      "/kaggle/input/youtube-new/KR_category_id.json\n",
      "/kaggle/input/youtube-new/RU_category_id.json\n",
      "/kaggle/input/youtube-new/FRvideos.csv\n",
      "/kaggle/input/youtube-new/USvideos.csv\n",
      "/kaggle/input/youtube-new/INvideos.csv\n",
      "/kaggle/input/youtube-new/RUvideos.csv\n",
      "/kaggle/input/youtube-new/CA_category_id.json\n",
      "/kaggle/input/youtube-new/DE_category_id.json\n",
      "/kaggle/input/youtube-new/JP_category_id.json\n",
      "/kaggle/input/youtube-new/JPvideos.csv\n",
      "/kaggle/input/youtube-new/FR_category_id.json\n",
      "/kaggle/input/youtube-new/CAvideos.csv\n"
     ]
    }
   ],
   "source": [
    "# This Python 3 environment comes with many helpful analytics libraries installed\n",
    "# It is defined by the kaggle/python Docker image: https://github.com/kaggle/docker-python\n",
    "# For example, here's several helpful packages to load\n",
    "\n",
    "import numpy as np # linear algebra\n",
    "import pandas as pd # data processing, CSV file I/O (e.g. pd.read_csv)\n",
    "import matplotlib.pyplot as plt\n",
    "import seaborn as sns\n",
    "\n",
    "# Input data files are available in the read-only \"../input/\" directory\n",
    "# For example, running this (by clicking run or pressing Shift+Enter) will list all files under the input directory\n",
    "\n",
    "import os\n",
    "for dirname, _, filenames in os.walk('/kaggle/input'):\n",
    "    for filename in filenames:\n",
    "        print(os.path.join(dirname, filename))\n",
    "\n",
    "# You can write up to 20GB to the current directory (/kaggle/working/) that gets preserved as output when you create a version using \"Save & Run All\" \n",
    "# You can also write temporary files to /kaggle/temp/, but they won't be saved outside of the current session"
   ]
  },
  {
   "cell_type": "code",
   "execution_count": 2,
   "metadata": {
    "_cell_guid": "79c7e3d0-c299-4dcb-8224-4455121ee9b0",
    "_uuid": "d629ff2d2480ee46fbb7e2d37f6b5fab8052498a",
    "execution": {
     "iopub.execute_input": "2021-05-11T04:05:43.444481Z",
     "iopub.status.busy": "2021-05-11T04:05:43.443748Z",
     "iopub.status.idle": "2021-05-11T04:05:44.726560Z",
     "shell.execute_reply": "2021-05-11T04:05:44.725960Z"
    },
    "papermill": {
     "duration": 1.304659,
     "end_time": "2021-05-11T04:05:44.726680",
     "exception": false,
     "start_time": "2021-05-11T04:05:43.422021",
     "status": "completed"
    },
    "tags": []
   },
   "outputs": [],
   "source": [
    "path = '../input/youtube-new/USvideos.csv'\n",
    "data = pd.read_csv(path, index_col='video_id', parse_dates=['trending_date'])"
   ]
  },
  {
   "cell_type": "code",
   "execution_count": 3,
   "metadata": {
    "execution": {
     "iopub.execute_input": "2021-05-11T04:05:44.774856Z",
     "iopub.status.busy": "2021-05-11T04:05:44.774101Z",
     "iopub.status.idle": "2021-05-11T04:05:44.788572Z",
     "shell.execute_reply": "2021-05-11T04:05:44.788048Z"
    },
    "papermill": {
     "duration": 0.046643,
     "end_time": "2021-05-11T04:05:44.788698",
     "exception": false,
     "start_time": "2021-05-11T04:05:44.742055",
     "status": "completed"
    },
    "tags": []
   },
   "outputs": [
    {
     "data": {
      "text/html": [
       "<div>\n",
       "<style scoped>\n",
       "    .dataframe tbody tr th:only-of-type {\n",
       "        vertical-align: middle;\n",
       "    }\n",
       "\n",
       "    .dataframe tbody tr th {\n",
       "        vertical-align: top;\n",
       "    }\n",
       "\n",
       "    .dataframe thead th {\n",
       "        text-align: right;\n",
       "    }\n",
       "</style>\n",
       "<table border=\"1\" class=\"dataframe\">\n",
       "  <thead>\n",
       "    <tr style=\"text-align: right;\">\n",
       "      <th></th>\n",
       "      <th>trending_date</th>\n",
       "      <th>title</th>\n",
       "      <th>channel_title</th>\n",
       "      <th>category_id</th>\n",
       "      <th>publish_time</th>\n",
       "      <th>tags</th>\n",
       "      <th>views</th>\n",
       "      <th>likes</th>\n",
       "      <th>dislikes</th>\n",
       "      <th>comment_count</th>\n",
       "      <th>thumbnail_link</th>\n",
       "      <th>comments_disabled</th>\n",
       "      <th>ratings_disabled</th>\n",
       "      <th>video_error_or_removed</th>\n",
       "      <th>description</th>\n",
       "    </tr>\n",
       "    <tr>\n",
       "      <th>video_id</th>\n",
       "      <th></th>\n",
       "      <th></th>\n",
       "      <th></th>\n",
       "      <th></th>\n",
       "      <th></th>\n",
       "      <th></th>\n",
       "      <th></th>\n",
       "      <th></th>\n",
       "      <th></th>\n",
       "      <th></th>\n",
       "      <th></th>\n",
       "      <th></th>\n",
       "      <th></th>\n",
       "      <th></th>\n",
       "      <th></th>\n",
       "    </tr>\n",
       "  </thead>\n",
       "  <tbody>\n",
       "    <tr>\n",
       "      <th>2kyS6SvSYSE</th>\n",
       "      <td>17.14.11</td>\n",
       "      <td>WE WANT TO TALK ABOUT OUR MARRIAGE</td>\n",
       "      <td>CaseyNeistat</td>\n",
       "      <td>22</td>\n",
       "      <td>2017-11-13T17:13:01.000Z</td>\n",
       "      <td>SHANtell martin</td>\n",
       "      <td>748374</td>\n",
       "      <td>57527</td>\n",
       "      <td>2966</td>\n",
       "      <td>15954</td>\n",
       "      <td>https://i.ytimg.com/vi/2kyS6SvSYSE/default.jpg</td>\n",
       "      <td>False</td>\n",
       "      <td>False</td>\n",
       "      <td>False</td>\n",
       "      <td>SHANTELL'S CHANNEL - https://www.youtube.com/s...</td>\n",
       "    </tr>\n",
       "    <tr>\n",
       "      <th>1ZAPwfrtAFY</th>\n",
       "      <td>17.14.11</td>\n",
       "      <td>The Trump Presidency: Last Week Tonight with J...</td>\n",
       "      <td>LastWeekTonight</td>\n",
       "      <td>24</td>\n",
       "      <td>2017-11-13T07:30:00.000Z</td>\n",
       "      <td>last week tonight trump presidency|\"last week ...</td>\n",
       "      <td>2418783</td>\n",
       "      <td>97185</td>\n",
       "      <td>6146</td>\n",
       "      <td>12703</td>\n",
       "      <td>https://i.ytimg.com/vi/1ZAPwfrtAFY/default.jpg</td>\n",
       "      <td>False</td>\n",
       "      <td>False</td>\n",
       "      <td>False</td>\n",
       "      <td>One year after the presidential election, John...</td>\n",
       "    </tr>\n",
       "    <tr>\n",
       "      <th>5qpjK5DgCt4</th>\n",
       "      <td>17.14.11</td>\n",
       "      <td>Racist Superman | Rudy Mancuso, King Bach &amp; Le...</td>\n",
       "      <td>Rudy Mancuso</td>\n",
       "      <td>23</td>\n",
       "      <td>2017-11-12T19:05:24.000Z</td>\n",
       "      <td>racist superman|\"rudy\"|\"mancuso\"|\"king\"|\"bach\"...</td>\n",
       "      <td>3191434</td>\n",
       "      <td>146033</td>\n",
       "      <td>5339</td>\n",
       "      <td>8181</td>\n",
       "      <td>https://i.ytimg.com/vi/5qpjK5DgCt4/default.jpg</td>\n",
       "      <td>False</td>\n",
       "      <td>False</td>\n",
       "      <td>False</td>\n",
       "      <td>WATCH MY PREVIOUS VIDEO ▶ \\n\\nSUBSCRIBE ► http...</td>\n",
       "    </tr>\n",
       "    <tr>\n",
       "      <th>puqaWrEC7tY</th>\n",
       "      <td>17.14.11</td>\n",
       "      <td>Nickelback Lyrics: Real or Fake?</td>\n",
       "      <td>Good Mythical Morning</td>\n",
       "      <td>24</td>\n",
       "      <td>2017-11-13T11:00:04.000Z</td>\n",
       "      <td>rhett and link|\"gmm\"|\"good mythical morning\"|\"...</td>\n",
       "      <td>343168</td>\n",
       "      <td>10172</td>\n",
       "      <td>666</td>\n",
       "      <td>2146</td>\n",
       "      <td>https://i.ytimg.com/vi/puqaWrEC7tY/default.jpg</td>\n",
       "      <td>False</td>\n",
       "      <td>False</td>\n",
       "      <td>False</td>\n",
       "      <td>Today we find out if Link is a Nickelback amat...</td>\n",
       "    </tr>\n",
       "    <tr>\n",
       "      <th>d380meD0W0M</th>\n",
       "      <td>17.14.11</td>\n",
       "      <td>I Dare You: GOING BALD!?</td>\n",
       "      <td>nigahiga</td>\n",
       "      <td>24</td>\n",
       "      <td>2017-11-12T18:01:41.000Z</td>\n",
       "      <td>ryan|\"higa\"|\"higatv\"|\"nigahiga\"|\"i dare you\"|\"...</td>\n",
       "      <td>2095731</td>\n",
       "      <td>132235</td>\n",
       "      <td>1989</td>\n",
       "      <td>17518</td>\n",
       "      <td>https://i.ytimg.com/vi/d380meD0W0M/default.jpg</td>\n",
       "      <td>False</td>\n",
       "      <td>False</td>\n",
       "      <td>False</td>\n",
       "      <td>I know it's been a while since we did this sho...</td>\n",
       "    </tr>\n",
       "  </tbody>\n",
       "</table>\n",
       "</div>"
      ],
      "text/plain": [
       "            trending_date                                              title  \\\n",
       "video_id                                                                       \n",
       "2kyS6SvSYSE      17.14.11                 WE WANT TO TALK ABOUT OUR MARRIAGE   \n",
       "1ZAPwfrtAFY      17.14.11  The Trump Presidency: Last Week Tonight with J...   \n",
       "5qpjK5DgCt4      17.14.11  Racist Superman | Rudy Mancuso, King Bach & Le...   \n",
       "puqaWrEC7tY      17.14.11                   Nickelback Lyrics: Real or Fake?   \n",
       "d380meD0W0M      17.14.11                           I Dare You: GOING BALD!?   \n",
       "\n",
       "                     channel_title  category_id              publish_time  \\\n",
       "video_id                                                                    \n",
       "2kyS6SvSYSE           CaseyNeistat           22  2017-11-13T17:13:01.000Z   \n",
       "1ZAPwfrtAFY        LastWeekTonight           24  2017-11-13T07:30:00.000Z   \n",
       "5qpjK5DgCt4           Rudy Mancuso           23  2017-11-12T19:05:24.000Z   \n",
       "puqaWrEC7tY  Good Mythical Morning           24  2017-11-13T11:00:04.000Z   \n",
       "d380meD0W0M               nigahiga           24  2017-11-12T18:01:41.000Z   \n",
       "\n",
       "                                                          tags    views  \\\n",
       "video_id                                                                  \n",
       "2kyS6SvSYSE                                    SHANtell martin   748374   \n",
       "1ZAPwfrtAFY  last week tonight trump presidency|\"last week ...  2418783   \n",
       "5qpjK5DgCt4  racist superman|\"rudy\"|\"mancuso\"|\"king\"|\"bach\"...  3191434   \n",
       "puqaWrEC7tY  rhett and link|\"gmm\"|\"good mythical morning\"|\"...   343168   \n",
       "d380meD0W0M  ryan|\"higa\"|\"higatv\"|\"nigahiga\"|\"i dare you\"|\"...  2095731   \n",
       "\n",
       "              likes  dislikes  comment_count  \\\n",
       "video_id                                       \n",
       "2kyS6SvSYSE   57527      2966          15954   \n",
       "1ZAPwfrtAFY   97185      6146          12703   \n",
       "5qpjK5DgCt4  146033      5339           8181   \n",
       "puqaWrEC7tY   10172       666           2146   \n",
       "d380meD0W0M  132235      1989          17518   \n",
       "\n",
       "                                             thumbnail_link  \\\n",
       "video_id                                                      \n",
       "2kyS6SvSYSE  https://i.ytimg.com/vi/2kyS6SvSYSE/default.jpg   \n",
       "1ZAPwfrtAFY  https://i.ytimg.com/vi/1ZAPwfrtAFY/default.jpg   \n",
       "5qpjK5DgCt4  https://i.ytimg.com/vi/5qpjK5DgCt4/default.jpg   \n",
       "puqaWrEC7tY  https://i.ytimg.com/vi/puqaWrEC7tY/default.jpg   \n",
       "d380meD0W0M  https://i.ytimg.com/vi/d380meD0W0M/default.jpg   \n",
       "\n",
       "             comments_disabled  ratings_disabled  video_error_or_removed  \\\n",
       "video_id                                                                   \n",
       "2kyS6SvSYSE              False             False                   False   \n",
       "1ZAPwfrtAFY              False             False                   False   \n",
       "5qpjK5DgCt4              False             False                   False   \n",
       "puqaWrEC7tY              False             False                   False   \n",
       "d380meD0W0M              False             False                   False   \n",
       "\n",
       "                                                   description  \n",
       "video_id                                                        \n",
       "2kyS6SvSYSE  SHANTELL'S CHANNEL - https://www.youtube.com/s...  \n",
       "1ZAPwfrtAFY  One year after the presidential election, John...  \n",
       "5qpjK5DgCt4  WATCH MY PREVIOUS VIDEO ▶ \\n\\nSUBSCRIBE ► http...  \n",
       "puqaWrEC7tY  Today we find out if Link is a Nickelback amat...  \n",
       "d380meD0W0M  I know it's been a while since we did this sho...  "
      ]
     },
     "execution_count": 3,
     "metadata": {},
     "output_type": "execute_result"
    }
   ],
   "source": [
    "data.head()"
   ]
  },
  {
   "cell_type": "code",
   "execution_count": 4,
   "metadata": {
    "execution": {
     "iopub.execute_input": "2021-05-11T04:05:44.828230Z",
     "iopub.status.busy": "2021-05-11T04:05:44.827515Z",
     "iopub.status.idle": "2021-05-11T04:05:44.831371Z",
     "shell.execute_reply": "2021-05-11T04:05:44.830789Z"
    },
    "papermill": {
     "duration": 0.026753,
     "end_time": "2021-05-11T04:05:44.831495",
     "exception": false,
     "start_time": "2021-05-11T04:05:44.804742",
     "status": "completed"
    },
    "tags": []
   },
   "outputs": [
    {
     "data": {
      "text/plain": [
       "trending_date             object\n",
       "title                     object\n",
       "channel_title             object\n",
       "category_id                int64\n",
       "publish_time              object\n",
       "tags                      object\n",
       "views                      int64\n",
       "likes                      int64\n",
       "dislikes                   int64\n",
       "comment_count              int64\n",
       "thumbnail_link            object\n",
       "comments_disabled           bool\n",
       "ratings_disabled            bool\n",
       "video_error_or_removed      bool\n",
       "description               object\n",
       "dtype: object"
      ]
     },
     "execution_count": 4,
     "metadata": {},
     "output_type": "execute_result"
    }
   ],
   "source": [
    "data.dtypes"
   ]
  },
  {
   "cell_type": "code",
   "execution_count": 5,
   "metadata": {
    "execution": {
     "iopub.execute_input": "2021-05-11T04:05:44.873240Z",
     "iopub.status.busy": "2021-05-11T04:05:44.872462Z",
     "iopub.status.idle": "2021-05-11T04:05:44.908517Z",
     "shell.execute_reply": "2021-05-11T04:05:44.907970Z"
    },
    "papermill": {
     "duration": 0.060289,
     "end_time": "2021-05-11T04:05:44.908641",
     "exception": false,
     "start_time": "2021-05-11T04:05:44.848352",
     "status": "completed"
    },
    "tags": []
   },
   "outputs": [
    {
     "data": {
      "text/html": [
       "<div>\n",
       "<style scoped>\n",
       "    .dataframe tbody tr th:only-of-type {\n",
       "        vertical-align: middle;\n",
       "    }\n",
       "\n",
       "    .dataframe tbody tr th {\n",
       "        vertical-align: top;\n",
       "    }\n",
       "\n",
       "    .dataframe thead th {\n",
       "        text-align: right;\n",
       "    }\n",
       "</style>\n",
       "<table border=\"1\" class=\"dataframe\">\n",
       "  <thead>\n",
       "    <tr style=\"text-align: right;\">\n",
       "      <th></th>\n",
       "      <th>category_id</th>\n",
       "      <th>views</th>\n",
       "      <th>likes</th>\n",
       "      <th>dislikes</th>\n",
       "      <th>comment_count</th>\n",
       "    </tr>\n",
       "  </thead>\n",
       "  <tbody>\n",
       "    <tr>\n",
       "      <th>count</th>\n",
       "      <td>40949.000000</td>\n",
       "      <td>4.094900e+04</td>\n",
       "      <td>4.094900e+04</td>\n",
       "      <td>4.094900e+04</td>\n",
       "      <td>4.094900e+04</td>\n",
       "    </tr>\n",
       "    <tr>\n",
       "      <th>mean</th>\n",
       "      <td>19.972429</td>\n",
       "      <td>2.360785e+06</td>\n",
       "      <td>7.426670e+04</td>\n",
       "      <td>3.711401e+03</td>\n",
       "      <td>8.446804e+03</td>\n",
       "    </tr>\n",
       "    <tr>\n",
       "      <th>std</th>\n",
       "      <td>7.568327</td>\n",
       "      <td>7.394114e+06</td>\n",
       "      <td>2.288853e+05</td>\n",
       "      <td>2.902971e+04</td>\n",
       "      <td>3.743049e+04</td>\n",
       "    </tr>\n",
       "    <tr>\n",
       "      <th>min</th>\n",
       "      <td>1.000000</td>\n",
       "      <td>5.490000e+02</td>\n",
       "      <td>0.000000e+00</td>\n",
       "      <td>0.000000e+00</td>\n",
       "      <td>0.000000e+00</td>\n",
       "    </tr>\n",
       "    <tr>\n",
       "      <th>25%</th>\n",
       "      <td>17.000000</td>\n",
       "      <td>2.423290e+05</td>\n",
       "      <td>5.424000e+03</td>\n",
       "      <td>2.020000e+02</td>\n",
       "      <td>6.140000e+02</td>\n",
       "    </tr>\n",
       "    <tr>\n",
       "      <th>50%</th>\n",
       "      <td>24.000000</td>\n",
       "      <td>6.818610e+05</td>\n",
       "      <td>1.809100e+04</td>\n",
       "      <td>6.310000e+02</td>\n",
       "      <td>1.856000e+03</td>\n",
       "    </tr>\n",
       "    <tr>\n",
       "      <th>75%</th>\n",
       "      <td>25.000000</td>\n",
       "      <td>1.823157e+06</td>\n",
       "      <td>5.541700e+04</td>\n",
       "      <td>1.938000e+03</td>\n",
       "      <td>5.755000e+03</td>\n",
       "    </tr>\n",
       "    <tr>\n",
       "      <th>max</th>\n",
       "      <td>43.000000</td>\n",
       "      <td>2.252119e+08</td>\n",
       "      <td>5.613827e+06</td>\n",
       "      <td>1.674420e+06</td>\n",
       "      <td>1.361580e+06</td>\n",
       "    </tr>\n",
       "  </tbody>\n",
       "</table>\n",
       "</div>"
      ],
      "text/plain": [
       "        category_id         views         likes      dislikes  comment_count\n",
       "count  40949.000000  4.094900e+04  4.094900e+04  4.094900e+04   4.094900e+04\n",
       "mean      19.972429  2.360785e+06  7.426670e+04  3.711401e+03   8.446804e+03\n",
       "std        7.568327  7.394114e+06  2.288853e+05  2.902971e+04   3.743049e+04\n",
       "min        1.000000  5.490000e+02  0.000000e+00  0.000000e+00   0.000000e+00\n",
       "25%       17.000000  2.423290e+05  5.424000e+03  2.020000e+02   6.140000e+02\n",
       "50%       24.000000  6.818610e+05  1.809100e+04  6.310000e+02   1.856000e+03\n",
       "75%       25.000000  1.823157e+06  5.541700e+04  1.938000e+03   5.755000e+03\n",
       "max       43.000000  2.252119e+08  5.613827e+06  1.674420e+06   1.361580e+06"
      ]
     },
     "execution_count": 5,
     "metadata": {},
     "output_type": "execute_result"
    }
   ],
   "source": [
    "data.describe()"
   ]
  },
  {
   "cell_type": "code",
   "execution_count": 6,
   "metadata": {
    "execution": {
     "iopub.execute_input": "2021-05-11T04:05:44.947246Z",
     "iopub.status.busy": "2021-05-11T04:05:44.946596Z",
     "iopub.status.idle": "2021-05-11T04:05:45.432250Z",
     "shell.execute_reply": "2021-05-11T04:05:45.432897Z"
    },
    "papermill": {
     "duration": 0.506975,
     "end_time": "2021-05-11T04:05:45.433063",
     "exception": false,
     "start_time": "2021-05-11T04:05:44.926088",
     "status": "completed"
    },
    "tags": []
   },
   "outputs": [],
   "source": [
    "# Handle missing value\n",
    "from sklearn.impute import SimpleImputer\n",
    "imputer= SimpleImputer(strategy='constant')\n",
    "imputer.fit_transform(data)\n",
    "data['trending_date'] = pd.to_datetime(data['trending_date'], format='%y.%d.%m')\n",
    "data['trending_date'] = data['trending_date'].astype('datetime64[ns]')"
   ]
  },
  {
   "cell_type": "code",
   "execution_count": 7,
   "metadata": {
    "execution": {
     "iopub.execute_input": "2021-05-11T04:05:45.476017Z",
     "iopub.status.busy": "2021-05-11T04:05:45.474827Z",
     "iopub.status.idle": "2021-05-11T04:05:52.513529Z",
     "shell.execute_reply": "2021-05-11T04:05:52.512986Z"
    },
    "papermill": {
     "duration": 7.06313,
     "end_time": "2021-05-11T04:05:52.513656",
     "exception": false,
     "start_time": "2021-05-11T04:05:45.450526",
     "status": "completed"
    },
    "tags": []
   },
   "outputs": [
    {
     "data": {
      "text/plain": [
       "<matplotlib.axes._subplots.AxesSubplot at 0x7f63eabc1f90>"
      ]
     },
     "execution_count": 7,
     "metadata": {},
     "output_type": "execute_result"
    },
    {
     "data": {
      "image/png": "[encoded data removed]",
      "text/plain": [
       "<Figure size 432x288 with 1 Axes>"
      ]
     },
     "metadata": {
      "needs_background": "light"
     },
     "output_type": "display_data"
    }
   ],
   "source": [
    "#trend of views every month\n",
    "\n",
    "sns.lineplot(x='trending_date', y='views', data=data)"
   ]
  },
  {
   "cell_type": "code",
   "execution_count": 8,
   "metadata": {
    "execution": {
     "iopub.execute_input": "2021-05-11T04:05:52.563142Z",
     "iopub.status.busy": "2021-05-11T04:05:52.562388Z",
     "iopub.status.idle": "2021-05-11T04:05:52.588768Z",
     "shell.execute_reply": "2021-05-11T04:05:52.588133Z"
    },
    "papermill": {
     "duration": 0.055784,
     "end_time": "2021-05-11T04:05:52.588927",
     "exception": false,
     "start_time": "2021-05-11T04:05:52.533143",
     "status": "completed"
    },
    "tags": []
   },
   "outputs": [
    {
     "data": {
      "text/html": [
       "<div>\n",
       "<style scoped>\n",
       "    .dataframe tbody tr th:only-of-type {\n",
       "        vertical-align: middle;\n",
       "    }\n",
       "\n",
       "    .dataframe tbody tr th {\n",
       "        vertical-align: top;\n",
       "    }\n",
       "\n",
       "    .dataframe thead th {\n",
       "        text-align: right;\n",
       "    }\n",
       "</style>\n",
       "<table border=\"1\" class=\"dataframe\">\n",
       "  <thead>\n",
       "    <tr style=\"text-align: right;\">\n",
       "      <th></th>\n",
       "      <th>trending_date</th>\n",
       "      <th>title</th>\n",
       "      <th>channel_title</th>\n",
       "      <th>category_id</th>\n",
       "      <th>publish_time</th>\n",
       "      <th>tags</th>\n",
       "      <th>views</th>\n",
       "      <th>likes</th>\n",
       "      <th>dislikes</th>\n",
       "      <th>comment_count</th>\n",
       "      <th>thumbnail_link</th>\n",
       "      <th>comments_disabled</th>\n",
       "      <th>ratings_disabled</th>\n",
       "      <th>video_error_or_removed</th>\n",
       "      <th>description</th>\n",
       "    </tr>\n",
       "    <tr>\n",
       "      <th>video_id</th>\n",
       "      <th></th>\n",
       "      <th></th>\n",
       "      <th></th>\n",
       "      <th></th>\n",
       "      <th></th>\n",
       "      <th></th>\n",
       "      <th></th>\n",
       "      <th></th>\n",
       "      <th></th>\n",
       "      <th></th>\n",
       "      <th></th>\n",
       "      <th></th>\n",
       "      <th></th>\n",
       "      <th></th>\n",
       "      <th></th>\n",
       "    </tr>\n",
       "  </thead>\n",
       "  <tbody>\n",
       "    <tr>\n",
       "      <th>2kyS6SvSYSE</th>\n",
       "      <td>2017-11-14</td>\n",
       "      <td>WE WANT TO TALK ABOUT OUR MARRIAGE</td>\n",
       "      <td>CaseyNeistat</td>\n",
       "      <td>22</td>\n",
       "      <td>2017-11-13T17:13:01.000Z</td>\n",
       "      <td>SHANtell martin</td>\n",
       "      <td>748374</td>\n",
       "      <td>57527</td>\n",
       "      <td>2966</td>\n",
       "      <td>15954</td>\n",
       "      <td>https://i.ytimg.com/vi/2kyS6SvSYSE/default.jpg</td>\n",
       "      <td>False</td>\n",
       "      <td>False</td>\n",
       "      <td>False</td>\n",
       "      <td>SHANTELL'S CHANNEL - https://www.youtube.com/s...</td>\n",
       "    </tr>\n",
       "    <tr>\n",
       "      <th>1ZAPwfrtAFY</th>\n",
       "      <td>2017-11-14</td>\n",
       "      <td>The Trump Presidency: Last Week Tonight with J...</td>\n",
       "      <td>LastWeekTonight</td>\n",
       "      <td>24</td>\n",
       "      <td>2017-11-13T07:30:00.000Z</td>\n",
       "      <td>last week tonight trump presidency|\"last week ...</td>\n",
       "      <td>2418783</td>\n",
       "      <td>97185</td>\n",
       "      <td>6146</td>\n",
       "      <td>12703</td>\n",
       "      <td>https://i.ytimg.com/vi/1ZAPwfrtAFY/default.jpg</td>\n",
       "      <td>False</td>\n",
       "      <td>False</td>\n",
       "      <td>False</td>\n",
       "      <td>One year after the presidential election, John...</td>\n",
       "    </tr>\n",
       "    <tr>\n",
       "      <th>5qpjK5DgCt4</th>\n",
       "      <td>2017-11-14</td>\n",
       "      <td>Racist Superman | Rudy Mancuso, King Bach &amp; Le...</td>\n",
       "      <td>Rudy Mancuso</td>\n",
       "      <td>23</td>\n",
       "      <td>2017-11-12T19:05:24.000Z</td>\n",
       "      <td>racist superman|\"rudy\"|\"mancuso\"|\"king\"|\"bach\"...</td>\n",
       "      <td>3191434</td>\n",
       "      <td>146033</td>\n",
       "      <td>5339</td>\n",
       "      <td>8181</td>\n",
       "      <td>https://i.ytimg.com/vi/5qpjK5DgCt4/default.jpg</td>\n",
       "      <td>False</td>\n",
       "      <td>False</td>\n",
       "      <td>False</td>\n",
       "      <td>WATCH MY PREVIOUS VIDEO ▶ \\n\\nSUBSCRIBE ► http...</td>\n",
       "    </tr>\n",
       "    <tr>\n",
       "      <th>puqaWrEC7tY</th>\n",
       "      <td>2017-11-14</td>\n",
       "      <td>Nickelback Lyrics: Real or Fake?</td>\n",
       "      <td>Good Mythical Morning</td>\n",
       "      <td>24</td>\n",
       "      <td>2017-11-13T11:00:04.000Z</td>\n",
       "      <td>rhett and link|\"gmm\"|\"good mythical morning\"|\"...</td>\n",
       "      <td>343168</td>\n",
       "      <td>10172</td>\n",
       "      <td>666</td>\n",
       "      <td>2146</td>\n",
       "      <td>https://i.ytimg.com/vi/puqaWrEC7tY/default.jpg</td>\n",
       "      <td>False</td>\n",
       "      <td>False</td>\n",
       "      <td>False</td>\n",
       "      <td>Today we find out if Link is a Nickelback amat...</td>\n",
       "    </tr>\n",
       "    <tr>\n",
       "      <th>d380meD0W0M</th>\n",
       "      <td>2017-11-14</td>\n",
       "      <td>I Dare You: GOING BALD!?</td>\n",
       "      <td>nigahiga</td>\n",
       "      <td>24</td>\n",
       "      <td>2017-11-12T18:01:41.000Z</td>\n",
       "      <td>ryan|\"higa\"|\"higatv\"|\"nigahiga\"|\"i dare you\"|\"...</td>\n",
       "      <td>2095731</td>\n",
       "      <td>132235</td>\n",
       "      <td>1989</td>\n",
       "      <td>17518</td>\n",
       "      <td>https://i.ytimg.com/vi/d380meD0W0M/default.jpg</td>\n",
       "      <td>False</td>\n",
       "      <td>False</td>\n",
       "      <td>False</td>\n",
       "      <td>I know it's been a while since we did this sho...</td>\n",
       "    </tr>\n",
       "  </tbody>\n",
       "</table>\n",
       "</div>"
      ],
      "text/plain": [
       "            trending_date                                              title  \\\n",
       "video_id                                                                       \n",
       "2kyS6SvSYSE    2017-11-14                 WE WANT TO TALK ABOUT OUR MARRIAGE   \n",
       "1ZAPwfrtAFY    2017-11-14  The Trump Presidency: Last Week Tonight with J...   \n",
       "5qpjK5DgCt4    2017-11-14  Racist Superman | Rudy Mancuso, King Bach & Le...   \n",
       "puqaWrEC7tY    2017-11-14                   Nickelback Lyrics: Real or Fake?   \n",
       "d380meD0W0M    2017-11-14                           I Dare You: GOING BALD!?   \n",
       "\n",
       "                     channel_title  category_id              publish_time  \\\n",
       "video_id                                                                    \n",
       "2kyS6SvSYSE           CaseyNeistat           22  2017-11-13T17:13:01.000Z   \n",
       "1ZAPwfrtAFY        LastWeekTonight           24  2017-11-13T07:30:00.000Z   \n",
       "5qpjK5DgCt4           Rudy Mancuso           23  2017-11-12T19:05:24.000Z   \n",
       "puqaWrEC7tY  Good Mythical Morning           24  2017-11-13T11:00:04.000Z   \n",
       "d380meD0W0M               nigahiga           24  2017-11-12T18:01:41.000Z   \n",
       "\n",
       "                                                          tags    views  \\\n",
       "video_id                                                                  \n",
       "2kyS6SvSYSE                                    SHANtell martin   748374   \n",
       "1ZAPwfrtAFY  last week tonight trump presidency|\"last week ...  2418783   \n",
       "5qpjK5DgCt4  racist superman|\"rudy\"|\"mancuso\"|\"king\"|\"bach\"...  3191434   \n",
       "puqaWrEC7tY  rhett and link|\"gmm\"|\"good mythical morning\"|\"...   343168   \n",
       "d380meD0W0M  ryan|\"higa\"|\"higatv\"|\"nigahiga\"|\"i dare you\"|\"...  2095731   \n",
       "\n",
       "              likes  dislikes  comment_count  \\\n",
       "video_id                                       \n",
       "2kyS6SvSYSE   57527      2966          15954   \n",
       "1ZAPwfrtAFY   97185      6146          12703   \n",
       "5qpjK5DgCt4  146033      5339           8181   \n",
       "puqaWrEC7tY   10172       666           2146   \n",
       "d380meD0W0M  132235      1989          17518   \n",
       "\n",
       "                                             thumbnail_link  \\\n",
       "video_id                                                      \n",
       "2kyS6SvSYSE  https://i.ytimg.com/vi/2kyS6SvSYSE/default.jpg   \n",
       "1ZAPwfrtAFY  https://i.ytimg.com/vi/1ZAPwfrtAFY/default.jpg   \n",
       "5qpjK5DgCt4  https://i.ytimg.com/vi/5qpjK5DgCt4/default.jpg   \n",
       "puqaWrEC7tY  https://i.ytimg.com/vi/puqaWrEC7tY/default.jpg   \n",
       "d380meD0W0M  https://i.ytimg.com/vi/d380meD0W0M/default.jpg   \n",
       "\n",
       "             comments_disabled  ratings_disabled  video_error_or_removed  \\\n",
       "video_id                                                                   \n",
       "2kyS6SvSYSE              False             False                   False   \n",
       "1ZAPwfrtAFY              False             False                   False   \n",
       "5qpjK5DgCt4              False             False                   False   \n",
       "puqaWrEC7tY              False             False                   False   \n",
       "d380meD0W0M              False             False                   False   \n",
       "\n",
       "                                                   description  \n",
       "video_id                                                        \n",
       "2kyS6SvSYSE  SHANTELL'S CHANNEL - https://www.youtube.com/s...  \n",
       "1ZAPwfrtAFY  One year after the presidential election, John...  \n",
       "5qpjK5DgCt4  WATCH MY PREVIOUS VIDEO ▶ \\n\\nSUBSCRIBE ► http...  \n",
       "puqaWrEC7tY  Today we find out if Link is a Nickelback amat...  \n",
       "d380meD0W0M  I know it's been a while since we did this sho...  "
      ]
     },
     "execution_count": 8,
     "metadata": {},
     "output_type": "execute_result"
    }
   ],
   "source": [
    "## Clear duplicate ID\n",
    "data = data[~data.index.duplicated(keep='first')]\n",
    "data.head()"
   ]
  },
  {
   "cell_type": "code",
   "execution_count": 9,
   "metadata": {
    "execution": {
     "iopub.execute_input": "2021-05-11T04:05:52.634778Z",
     "iopub.status.busy": "2021-05-11T04:05:52.633828Z",
     "iopub.status.idle": "2021-05-11T04:05:52.636471Z",
     "shell.execute_reply": "2021-05-11T04:05:52.637136Z"
    },
    "papermill": {
     "duration": 0.028142,
     "end_time": "2021-05-11T04:05:52.637285",
     "exception": false,
     "start_time": "2021-05-11T04:05:52.609143",
     "status": "completed"
    },
    "tags": []
   },
   "outputs": [],
   "source": [
    "num_data = ['views', 'likes', 'dislikes', 'comment_count']"
   ]
  },
  {
   "cell_type": "code",
   "execution_count": 10,
   "metadata": {
    "execution": {
     "iopub.execute_input": "2021-05-11T04:05:52.681802Z",
     "iopub.status.busy": "2021-05-11T04:05:52.680723Z",
     "iopub.status.idle": "2021-05-11T04:05:52.692679Z",
     "shell.execute_reply": "2021-05-11T04:05:52.693280Z"
    },
    "papermill": {
     "duration": 0.035943,
     "end_time": "2021-05-11T04:05:52.693441",
     "exception": false,
     "start_time": "2021-05-11T04:05:52.657498",
     "status": "completed"
    },
    "tags": []
   },
   "outputs": [
    {
     "data": {
      "text/html": [
       "<div>\n",
       "<style scoped>\n",
       "    .dataframe tbody tr th:only-of-type {\n",
       "        vertical-align: middle;\n",
       "    }\n",
       "\n",
       "    .dataframe tbody tr th {\n",
       "        vertical-align: top;\n",
       "    }\n",
       "\n",
       "    .dataframe thead th {\n",
       "        text-align: right;\n",
       "    }\n",
       "</style>\n",
       "<table border=\"1\" class=\"dataframe\">\n",
       "  <thead>\n",
       "    <tr style=\"text-align: right;\">\n",
       "      <th></th>\n",
       "      <th>views</th>\n",
       "      <th>likes</th>\n",
       "      <th>dislikes</th>\n",
       "      <th>comment_count</th>\n",
       "    </tr>\n",
       "    <tr>\n",
       "      <th>video_id</th>\n",
       "      <th></th>\n",
       "      <th></th>\n",
       "      <th></th>\n",
       "      <th></th>\n",
       "    </tr>\n",
       "  </thead>\n",
       "  <tbody>\n",
       "    <tr>\n",
       "      <th>2kyS6SvSYSE</th>\n",
       "      <td>748374</td>\n",
       "      <td>57527</td>\n",
       "      <td>2966</td>\n",
       "      <td>15954</td>\n",
       "    </tr>\n",
       "    <tr>\n",
       "      <th>1ZAPwfrtAFY</th>\n",
       "      <td>2418783</td>\n",
       "      <td>97185</td>\n",
       "      <td>6146</td>\n",
       "      <td>12703</td>\n",
       "    </tr>\n",
       "    <tr>\n",
       "      <th>5qpjK5DgCt4</th>\n",
       "      <td>3191434</td>\n",
       "      <td>146033</td>\n",
       "      <td>5339</td>\n",
       "      <td>8181</td>\n",
       "    </tr>\n",
       "    <tr>\n",
       "      <th>puqaWrEC7tY</th>\n",
       "      <td>343168</td>\n",
       "      <td>10172</td>\n",
       "      <td>666</td>\n",
       "      <td>2146</td>\n",
       "    </tr>\n",
       "    <tr>\n",
       "      <th>d380meD0W0M</th>\n",
       "      <td>2095731</td>\n",
       "      <td>132235</td>\n",
       "      <td>1989</td>\n",
       "      <td>17518</td>\n",
       "    </tr>\n",
       "  </tbody>\n",
       "</table>\n",
       "</div>"
      ],
      "text/plain": [
       "               views   likes  dislikes  comment_count\n",
       "video_id                                             \n",
       "2kyS6SvSYSE   748374   57527      2966          15954\n",
       "1ZAPwfrtAFY  2418783   97185      6146          12703\n",
       "5qpjK5DgCt4  3191434  146033      5339           8181\n",
       "puqaWrEC7tY   343168   10172       666           2146\n",
       "d380meD0W0M  2095731  132235      1989          17518"
      ]
     },
     "execution_count": 10,
     "metadata": {},
     "output_type": "execute_result"
    }
   ],
   "source": [
    "data_with_num_only = data[num_data]\n",
    "data_with_num_only.head()"
   ]
  },
  {
   "cell_type": "code",
   "execution_count": 11,
   "metadata": {
    "execution": {
     "iopub.execute_input": "2021-05-11T04:05:52.739761Z",
     "iopub.status.busy": "2021-05-11T04:05:52.738755Z",
     "iopub.status.idle": "2021-05-11T04:05:54.304303Z",
     "shell.execute_reply": "2021-05-11T04:05:54.304885Z"
    },
    "papermill": {
     "duration": 1.590335,
     "end_time": "2021-05-11T04:05:54.305057",
     "exception": false,
     "start_time": "2021-05-11T04:05:52.714722",
     "status": "completed"
    },
    "tags": []
   },
   "outputs": [
    {
     "data": {
      "text/plain": [
       "<matplotlib.legend.Legend at 0x7f63ea736910>"
      ]
     },
     "execution_count": 11,
     "metadata": {},
     "output_type": "execute_result"
    },
    {
     "data": {
      "image/png": "[encoded data removed]",
      "text/plain": [
       "<Figure size 432x288 with 1 Axes>"
      ]
     },
     "metadata": {
      "needs_background": "light"
     },
     "output_type": "display_data"
    }
   ],
   "source": [
    "# corelation between views with likes, dislikes and comment\n",
    "sns.regplot(x='views', y='likes', data=data_with_num_only, label='likes')\n",
    "sns.regplot(x='views', y='dislikes', data=data_with_num_only, label='dislikes')\n",
    "sns.regplot(x='views', y='comment_count', data=data_with_num_only, label='comment_count')\n",
    "plt.ylabel('count')\n",
    "plt.legend()\n"
   ]
  },
  {
   "cell_type": "code",
   "execution_count": 12,
   "metadata": {
    "execution": {
     "iopub.execute_input": "2021-05-11T04:05:54.353903Z",
     "iopub.status.busy": "2021-05-11T04:05:54.353205Z",
     "iopub.status.idle": "2021-05-11T04:05:54.631613Z",
     "shell.execute_reply": "2021-05-11T04:05:54.632116Z"
    },
    "papermill": {
     "duration": 0.304565,
     "end_time": "2021-05-11T04:05:54.632272",
     "exception": false,
     "start_time": "2021-05-11T04:05:54.327707",
     "status": "completed"
    },
    "tags": []
   },
   "outputs": [
    {
     "data": {
      "text/plain": [
       "<matplotlib.axes._subplots.AxesSubplot at 0x7f63ea6c66d0>"
      ]
     },
     "execution_count": 12,
     "metadata": {},
     "output_type": "execute_result"
    },
    {
     "data": {
      "image/png": "[encoded data removed]",
      "text/plain": [
       "<Figure size 432x288 with 1 Axes>"
      ]
     },
     "metadata": {
      "needs_background": "light"
     },
     "output_type": "display_data"
    }
   ],
   "source": [
    "## ALL TIME \n",
    "\n",
    "# top 10 most trending channels\n",
    "df = pd.DataFrame(data['channel_title'].value_counts()).head(10)\n",
    "\n",
    "df_value_counts = df.reset_index()\n",
    "df_value_counts.columns = ['channel_title', 'counts']\n",
    "sns.barplot(y=df_value_counts['channel_title'], x=df_value_counts['counts'])\n",
    "\n",
    "## we can see that ESPN is the most trending channels which have 80+ video that was a trending video according to this data"
   ]
  },
  {
   "cell_type": "code",
   "execution_count": 13,
   "metadata": {
    "execution": {
     "iopub.execute_input": "2021-05-11T04:05:54.683761Z",
     "iopub.status.busy": "2021-05-11T04:05:54.683037Z",
     "iopub.status.idle": "2021-05-11T04:05:54.883645Z",
     "shell.execute_reply": "2021-05-11T04:05:54.882960Z"
    },
    "papermill": {
     "duration": 0.227515,
     "end_time": "2021-05-11T04:05:54.883762",
     "exception": false,
     "start_time": "2021-05-11T04:05:54.656247",
     "status": "completed"
    },
    "tags": []
   },
   "outputs": [
    {
     "data": {
      "text/plain": [
       "<matplotlib.axes._subplots.AxesSubplot at 0x7f63ea673810>"
      ]
     },
     "execution_count": 13,
     "metadata": {},
     "output_type": "execute_result"
    },
    {
     "data": {
      "image/png": "[encoded data removed]",
      "text/plain": [
       "<Figure size 432x288 with 1 Axes>"
      ]
     },
     "metadata": {
      "needs_background": "light"
     },
     "output_type": "display_data"
    }
   ],
   "source": [
    "# # top 10 most trending channels but in 2018\n",
    "data_2018 = data[(data['trending_date'] > '2018-01-01') & (data['trending_date'] <= '2020-12-30')]\n",
    "\n",
    "df_2018 = pd.DataFrame(data_2018['channel_title'].value_counts()).head(10)\n",
    "\n",
    "df_value_counts_2018 = df_2018.reset_index()\n",
    "df_value_counts_2018.columns = ['channel_title', 'counts']\n",
    "sns.barplot(y=df_value_counts_2018['channel_title'], x=df_value_counts_2018['counts'])\n",
    "\n",
    "## still ESPN"
   ]
  },
  {
   "cell_type": "code",
   "execution_count": 14,
   "metadata": {
    "execution": {
     "iopub.execute_input": "2021-05-11T04:05:54.944077Z",
     "iopub.status.busy": "2021-05-11T04:05:54.942978Z",
     "iopub.status.idle": "2021-05-11T04:05:55.077364Z",
     "shell.execute_reply": "2021-05-11T04:05:55.078207Z"
    },
    "papermill": {
     "duration": 0.169373,
     "end_time": "2021-05-11T04:05:55.078446",
     "exception": false,
     "start_time": "2021-05-11T04:05:54.909073",
     "status": "completed"
    },
    "tags": []
   },
   "outputs": [],
   "source": [
    "## top 20 most trending tags \n",
    "tags = {}\n",
    "for i in data.tags :\n",
    "    for j in i.split('|') :\n",
    "        if j in tags :\n",
    "            tags[j] +=1\n",
    "        else :\n",
    "            tags[j] = 1\n",
    "\n",
    "tags_data = pd.DataFrame({'tag' : tags.keys(), 'count' : tags.values()})\n",
    "top_20_tags=tags_data.sort_values(by=['count'], ascending=False).head(20)"
   ]
  },
  {
   "cell_type": "code",
   "execution_count": 15,
   "metadata": {
    "execution": {
     "iopub.execute_input": "2021-05-11T04:05:55.149015Z",
     "iopub.status.busy": "2021-05-11T04:05:55.147936Z",
     "iopub.status.idle": "2021-05-11T04:05:55.438179Z",
     "shell.execute_reply": "2021-05-11T04:05:55.437470Z"
    },
    "papermill": {
     "duration": 0.326692,
     "end_time": "2021-05-11T04:05:55.438316",
     "exception": false,
     "start_time": "2021-05-11T04:05:55.111624",
     "status": "completed"
    },
    "tags": []
   },
   "outputs": [
    {
     "data": {
      "text/plain": [
       "<matplotlib.axes._subplots.AxesSubplot at 0x7f63ea0fccd0>"
      ]
     },
     "execution_count": 15,
     "metadata": {},
     "output_type": "execute_result"
    },
    {
     "data": {
      "image/png": "[encoded data removed]",
      "text/plain": [
       "<Figure size 432x288 with 1 Axes>"
      ]
     },
     "metadata": {
      "needs_background": "light"
     },
     "output_type": "display_data"
    }
   ],
   "source": [
    "sns.barplot(y='tag', x='count', data=top_20_tags) "
   ]
  },
  {
   "cell_type": "code",
   "execution_count": 16,
   "metadata": {
    "execution": {
     "iopub.execute_input": "2021-05-11T04:05:55.518026Z",
     "iopub.status.busy": "2021-05-11T04:05:55.502379Z",
     "iopub.status.idle": "2021-05-11T04:05:55.847107Z",
     "shell.execute_reply": "2021-05-11T04:05:55.847650Z"
    },
    "papermill": {
     "duration": 0.382637,
     "end_time": "2021-05-11T04:05:55.847795",
     "exception": false,
     "start_time": "2021-05-11T04:05:55.465158",
     "status": "completed"
    },
    "tags": []
   },
   "outputs": [
    {
     "data": {
      "text/plain": [
       "<matplotlib.axes._subplots.AxesSubplot at 0x7f63e346ca10>"
      ]
     },
     "execution_count": 16,
     "metadata": {},
     "output_type": "execute_result"
    },
    {
     "data": {
      "image/png": "[encoded data removed]",
      "text/plain": [
       "<Figure size 432x288 with 1 Axes>"
      ]
     },
     "metadata": {
      "needs_background": "light"
     },
     "output_type": "display_data"
    }
   ],
   "source": [
    "# in 2018\n",
    "tags_2018 = {}\n",
    "for i in data_2018.tags :\n",
    "    for j in i.split('|') :\n",
    "        if j in tags_2018 :\n",
    "            tags_2018[j] +=1\n",
    "        else :\n",
    "            tags_2018[j] = 1\n",
    "\n",
    "tags_data_2018 = pd.DataFrame({'tag' : tags_2018.keys(), 'count' : tags_2018.values()})\n",
    "top_20_tags_2018=tags_data_2018.sort_values(by=['count'], ascending=False).head(20)\n",
    "sns.barplot(y='tag', x='count', data=top_20_tags_2018) "
   ]
  },
  {
   "cell_type": "code",
   "execution_count": 17,
   "metadata": {
    "execution": {
     "iopub.execute_input": "2021-05-11T04:05:55.912931Z",
     "iopub.status.busy": "2021-05-11T04:05:55.911879Z",
     "iopub.status.idle": "2021-05-11T04:05:56.107495Z",
     "shell.execute_reply": "2021-05-11T04:05:56.108182Z"
    },
    "papermill": {
     "duration": 0.23271,
     "end_time": "2021-05-11T04:05:56.108379",
     "exception": false,
     "start_time": "2021-05-11T04:05:55.875669",
     "status": "completed"
    },
    "tags": []
   },
   "outputs": [
    {
     "data": {
      "text/plain": [
       "<matplotlib.axes._subplots.AxesSubplot at 0x7f63e337b3d0>"
      ]
     },
     "execution_count": 17,
     "metadata": {},
     "output_type": "execute_result"
    },
    {
     "data": {
      "image/png": "[encoded data removed]",
      "text/plain": [
       "<Figure size 432x288 with 1 Axes>"
      ]
     },
     "metadata": {
      "needs_background": "light"
     },
     "output_type": "display_data"
    }
   ],
   "source": [
    "## comment disable and dislikes corelation\n",
    "sns.scatterplot(x='comments_disabled', y='dislikes', data=data)"
   ]
  },
  {
   "cell_type": "code",
   "execution_count": 18,
   "metadata": {
    "execution": {
     "iopub.execute_input": "2021-05-11T04:05:56.190920Z",
     "iopub.status.busy": "2021-05-11T04:05:56.190222Z",
     "iopub.status.idle": "2021-05-11T04:05:56.409482Z",
     "shell.execute_reply": "2021-05-11T04:05:56.410014Z"
    },
    "papermill": {
     "duration": 0.259601,
     "end_time": "2021-05-11T04:05:56.410163",
     "exception": false,
     "start_time": "2021-05-11T04:05:56.150562",
     "status": "completed"
    },
    "tags": []
   },
   "outputs": [
    {
     "data": {
      "text/plain": [
       "<matplotlib.axes._subplots.AxesSubplot at 0x7f63e32e9e50>"
      ]
     },
     "execution_count": 18,
     "metadata": {},
     "output_type": "execute_result"
    },
    {
     "name": "stderr",
     "output_type": "stream",
     "text": [
      "/opt/conda/lib/python3.7/site-packages/matplotlib/backends/backend_agg.py:214: RuntimeWarning: Glyph 48169 missing from current font.\n",
      "  font.set_text(s, 0.0, flags=flags)\n",
      "/opt/conda/lib/python3.7/site-packages/matplotlib/backends/backend_agg.py:214: RuntimeWarning: Glyph 53444 missing from current font.\n",
      "  font.set_text(s, 0.0, flags=flags)\n",
      "/opt/conda/lib/python3.7/site-packages/matplotlib/backends/backend_agg.py:214: RuntimeWarning: Glyph 49548 missing from current font.\n",
      "  font.set_text(s, 0.0, flags=flags)\n",
      "/opt/conda/lib/python3.7/site-packages/matplotlib/backends/backend_agg.py:214: RuntimeWarning: Glyph 45380 missing from current font.\n",
      "  font.set_text(s, 0.0, flags=flags)\n",
      "/opt/conda/lib/python3.7/site-packages/matplotlib/backends/backend_agg.py:214: RuntimeWarning: Glyph 45800 missing from current font.\n",
      "  font.set_text(s, 0.0, flags=flags)\n",
      "/opt/conda/lib/python3.7/site-packages/matplotlib/backends/backend_agg.py:183: RuntimeWarning: Glyph 48169 missing from current font.\n",
      "  font.set_text(s, 0, flags=flags)\n",
      "/opt/conda/lib/python3.7/site-packages/matplotlib/backends/backend_agg.py:183: RuntimeWarning: Glyph 53444 missing from current font.\n",
      "  font.set_text(s, 0, flags=flags)\n",
      "/opt/conda/lib/python3.7/site-packages/matplotlib/backends/backend_agg.py:183: RuntimeWarning: Glyph 49548 missing from current font.\n",
      "  font.set_text(s, 0, flags=flags)\n",
      "/opt/conda/lib/python3.7/site-packages/matplotlib/backends/backend_agg.py:183: RuntimeWarning: Glyph 45380 missing from current font.\n",
      "  font.set_text(s, 0, flags=flags)\n",
      "/opt/conda/lib/python3.7/site-packages/matplotlib/backends/backend_agg.py:183: RuntimeWarning: Glyph 45800 missing from current font.\n",
      "  font.set_text(s, 0, flags=flags)\n"
     ]
    },
    {
     "data": {
      "image/png": "[encoded data removed]",
      "text/plain": [
       "<Figure size 432x288 with 1 Axes>"
      ]
     },
     "metadata": {
      "needs_background": "light"
     },
     "output_type": "display_data"
    }
   ],
   "source": [
    "## Top 10 videos with most views.\n",
    "top_10_views = data.sort_values(by=['views'], ascending=False).head(10)\n",
    "sns.barplot(x='views', y='title', data=top_10_views)"
   ]
  },
  {
   "cell_type": "code",
   "execution_count": 19,
   "metadata": {
    "execution": {
     "iopub.execute_input": "2021-05-11T04:05:56.478974Z",
     "iopub.status.busy": "2021-05-11T04:05:56.478245Z",
     "iopub.status.idle": "2021-05-11T04:05:56.699916Z",
     "shell.execute_reply": "2021-05-11T04:05:56.699200Z"
    },
    "papermill": {
     "duration": 0.258517,
     "end_time": "2021-05-11T04:05:56.700050",
     "exception": false,
     "start_time": "2021-05-11T04:05:56.441533",
     "status": "completed"
    },
    "tags": []
   },
   "outputs": [
    {
     "data": {
      "text/plain": [
       "<matplotlib.axes._subplots.AxesSubplot at 0x7f63e321c610>"
      ]
     },
     "execution_count": 19,
     "metadata": {},
     "output_type": "execute_result"
    },
    {
     "name": "stderr",
     "output_type": "stream",
     "text": [
      "/opt/conda/lib/python3.7/site-packages/matplotlib/backends/backend_agg.py:214: RuntimeWarning: Glyph 48177 missing from current font.\n",
      "  font.set_text(s, 0.0, flags=flags)\n",
      "/opt/conda/lib/python3.7/site-packages/matplotlib/backends/backend_agg.py:214: RuntimeWarning: Glyph 51068 missing from current font.\n",
      "  font.set_text(s, 0.0, flags=flags)\n",
      "/opt/conda/lib/python3.7/site-packages/matplotlib/backends/backend_agg.py:214: RuntimeWarning: Glyph 47805 missing from current font.\n",
      "  font.set_text(s, 0.0, flags=flags)\n",
      "/opt/conda/lib/python3.7/site-packages/matplotlib/backends/backend_agg.py:214: RuntimeWarning: Glyph 36681 missing from current font.\n",
      "  font.set_text(s, 0.0, flags=flags)\n",
      "/opt/conda/lib/python3.7/site-packages/matplotlib/backends/backend_agg.py:214: RuntimeWarning: Glyph 36215 missing from current font.\n",
      "  font.set_text(s, 0.0, flags=flags)\n",
      "/opt/conda/lib/python3.7/site-packages/matplotlib/backends/backend_agg.py:183: RuntimeWarning: Glyph 48177 missing from current font.\n",
      "  font.set_text(s, 0, flags=flags)\n",
      "/opt/conda/lib/python3.7/site-packages/matplotlib/backends/backend_agg.py:183: RuntimeWarning: Glyph 51068 missing from current font.\n",
      "  font.set_text(s, 0, flags=flags)\n",
      "/opt/conda/lib/python3.7/site-packages/matplotlib/backends/backend_agg.py:183: RuntimeWarning: Glyph 47805 missing from current font.\n",
      "  font.set_text(s, 0, flags=flags)\n",
      "/opt/conda/lib/python3.7/site-packages/matplotlib/backends/backend_agg.py:183: RuntimeWarning: Glyph 36681 missing from current font.\n",
      "  font.set_text(s, 0, flags=flags)\n",
      "/opt/conda/lib/python3.7/site-packages/matplotlib/backends/backend_agg.py:183: RuntimeWarning: Glyph 36215 missing from current font.\n",
      "  font.set_text(s, 0, flags=flags)\n"
     ]
    },
    {
     "data": {
      "image/png": "[encoded data removed]",
      "text/plain": [
       "<Figure size 432x288 with 1 Axes>"
      ]
     },
     "metadata": {
      "needs_background": "light"
     },
     "output_type": "display_data"
    }
   ],
   "source": [
    "## top 10 most likes videos\n",
    "top_10_likes = data.sort_values(by=['likes'], ascending=False).head(10)\n",
    "sns.barplot(x='likes', y='title', data=top_10_likes)"
   ]
  },
  {
   "cell_type": "code",
   "execution_count": 20,
   "metadata": {
    "execution": {
     "iopub.execute_input": "2021-05-11T04:05:56.773878Z",
     "iopub.status.busy": "2021-05-11T04:05:56.772786Z",
     "iopub.status.idle": "2021-05-11T04:05:56.978005Z",
     "shell.execute_reply": "2021-05-11T04:05:56.978630Z"
    },
    "papermill": {
     "duration": 0.245289,
     "end_time": "2021-05-11T04:05:56.978780",
     "exception": false,
     "start_time": "2021-05-11T04:05:56.733491",
     "status": "completed"
    },
    "tags": []
   },
   "outputs": [
    {
     "data": {
      "text/plain": [
       "<matplotlib.axes._subplots.AxesSubplot at 0x7f63e31ae850>"
      ]
     },
     "execution_count": 20,
     "metadata": {},
     "output_type": "execute_result"
    },
    {
     "data": {
      "image/png": "[encoded data removed]",
      "text/plain": [
       "<Figure size 432x288 with 1 Axes>"
      ]
     },
     "metadata": {
      "needs_background": "light"
     },
     "output_type": "display_data"
    }
   ],
   "source": [
    "## top 10 most dislikes video\n",
    "top_10_dislikes = data.sort_values(by=['dislikes'], ascending=False).head(10)\n",
    "sns.barplot(x='dislikes', y='title', data=top_10_dislikes)"
   ]
  },
  {
   "cell_type": "code",
   "execution_count": 21,
   "metadata": {
    "execution": {
     "iopub.execute_input": "2021-05-11T04:05:57.054217Z",
     "iopub.status.busy": "2021-05-11T04:05:57.053503Z",
     "iopub.status.idle": "2021-05-11T04:05:57.064455Z",
     "shell.execute_reply": "2021-05-11T04:05:57.063907Z"
    },
    "papermill": {
     "duration": 0.049165,
     "end_time": "2021-05-11T04:05:57.064579",
     "exception": false,
     "start_time": "2021-05-11T04:05:57.015414",
     "status": "completed"
    },
    "tags": []
   },
   "outputs": [
    {
     "data": {
      "text/plain": [
       "channel_title    \n",
       "Logan Paul Vlogs     4\n",
       "jypentertainment     1\n",
       "YouTube Spotlight    1\n",
       "Washington Post      1\n",
       "MLG Highlights       1\n",
       "Daily Caller         1\n",
       "Call of Duty         1\n",
       "dtype: int64"
      ]
     },
     "execution_count": 21,
     "metadata": {},
     "output_type": "execute_result"
    }
   ],
   "source": [
    "## frequency of top 10 most dislikes channel\n",
    "top_10_dislikes[['channel_title']].value_counts()"
   ]
  },
  {
   "cell_type": "code",
   "execution_count": null,
   "metadata": {
    "papermill": {
     "duration": 0.035323,
     "end_time": "2021-05-11T04:05:57.136460",
     "exception": false,
     "start_time": "2021-05-11T04:05:57.101137",
     "status": "completed"
    },
    "tags": []
   },
   "outputs": [],
   "source": []
  }
 ],
 "metadata": {
  "kernelspec": {
   "display_name": "Python 3",
   "language": "python",
   "name": "python3"
  },
  "language_info": {
   "codemirror_mode": {
    "name": "ipython",
    "version": 3
   },
   "file_extension": ".py",
   "mimetype": "text/x-python",
   "name": "python",
   "nbconvert_exporter": "python",
   "pygments_lexer": "ipython3",
   "version": "3.7.6"
  },
  "papermill": {
   "duration": 20.048994,
   "end_time": "2021-05-11T04:05:57.280464",
   "environment_variables": {},
   "exception": null,
   "input_path": "__notebook__.ipynb",
   "output_path": "__notebook__.ipynb",
   "parameters": {},
   "start_time": "2021-05-11T04:05:37.231470",
   "version": "2.1.0"
  }
 },
 "nbformat": 4,
 "nbformat_minor": 4
}
